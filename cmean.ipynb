{
 "cells": [
  {
   "cell_type": "code",
   "execution_count": null,
   "metadata": {},
   "outputs": [],
   "source": [
    "import pandas as pd\n",
    "import matplotlib.pyplot as plt\n",
    "\n",
    "df = pd.read_csv(\"data/raw/uk-war.csv\", names=[\"date\",\"time\",\"location\",\"lat\",\"lon\",\"kind\",\"description\",\"link\"])\n",
    "df.dropna(axis=0,how='any',subset=['lat','lon'],inplace=True)\n"
   ]
  },
  {
   "cell_type": "code",
   "execution_count": null,
   "metadata": {},
   "outputs": [],
   "source": [
    "# Variable with the Longitude and Latitude\n",
    "X=df.loc[:,['kind','lat','lon']]\n",
    "X = X[X[\"kind\"].str.contains(\"Ua\") == False]\n",
    "X = X.drop('kind', axis=1)\n",
    "X.info()"
   ]
  },
  {
   "cell_type": "code",
   "execution_count": null,
   "metadata": {},
   "outputs": [],
   "source": [
    "X=df.loc[:,['kind','lat','lon']]\n",
    "X = X[X[\"kind\"].str.contains(\"Ru\") == False]\n",
    "X = X[X[\"kind\"].str.contains(\"RU\") == False]\n",
    "X = X.drop('kind', axis=1)\n",
    "X.info()"
   ]
  },
  {
   "cell_type": "code",
   "execution_count": null,
   "metadata": {},
   "outputs": [],
   "source": [
    "# Set up the loop and plot\n",
    "fig1, axes1 = plt.subplots(2, 3, figsize=(8, 8))\n",
    "ypts = X.lat.to_numpy()\n",
    "xpts = X.lon.to_numpy()\n",
    "alldata = np.vstack((xpts, ypts))\n",
    "fpcs = []\n",
    "\n",
    "for ncenters, ax in enumerate(axes1.reshape(-1), 4):\n",
    "    cntr, u, u0, d, jm, p, fpc = fuzz.cluster.cmeans(\n",
    "        alldata, ncenters, 2, error=0.005, maxiter=1000, init=None)\n",
    "\n",
    "    # Store fpc values for later\n",
    "    fpcs.append(fpc)\n",
    "\n",
    "    # Plot assigned clusters, for each data point in training set\n",
    "    cluster_membership = np.argmax(u, axis=0)\n",
    "    for j in range(ncenters):\n",
    "        ax.plot(xpts[cluster_membership == j],\n",
    "                ypts[cluster_membership == j], '.', color=colors[j])\n",
    "\n",
    "    # Mark the center of each fuzzy cluster\n",
    "    for pt in cntr:\n",
    "        ax.plot(pt[0], pt[1], 'rs')\n",
    "\n",
    "    ax.set_title('Centers = {0}; FPC = {1:.3f}'.format(ncenters, fpc))\n",
    "    ax.axis('off')\n",
    "\n",
    "fig1.tight_layout()"
   ]
  },
  {
   "cell_type": "code",
   "execution_count": null,
   "metadata": {},
   "outputs": [],
   "source": [
    "ig2, ax2 = plt.subplots()\n",
    "ax2.plot(np.r_[4:10], fpcs)\n",
    "ax2.set_xlabel(\"Number of centers\")\n",
    "ax2.set_ylabel(\"Fuzzy partition coefficient\")"
   ]
  },
  {
   "cell_type": "code",
   "execution_count": null,
   "metadata": {},
   "outputs": [],
   "source": [
    "ypts = X.lat.to_numpy()\n",
    "xpts = X.lon.to_numpy()\n",
    "alldata = np.vstack((xpts, ypts))\n",
    "\n",
    "cntr, u, u0, d, jm, p, fpc = fuzz.cluster.cmeans(\n",
    "    alldata, 6, 2, error=0.005, maxiter=1000, init=None)\n",
    "\n",
    "# Plot assigned clusters, for each data point in training set\n",
    "cluster_membership = np.argmax(u, axis=0)\n",
    "\n",
    "for j in range(6):\n",
    "    plt.plot(xpts[cluster_membership == j],\n",
    "            ypts[cluster_membership == j], '.',)\n",
    "\n",
    "# Mark the center of each fuzzy cluster\n",
    "for pt in cntr:\n",
    "    plt.plot(pt[0], pt[1], 'rs')\n",
    "\n",
    "plt.title('Centers = {0}; FPC = {1:.2f}'.format(len(cntr), fpc))"
   ]
  },
  {
   "cell_type": "code",
   "execution_count": null,
   "metadata": {},
   "outputs": [],
   "source": [
    "BBox = ((df.lon.min(),   df.lon.max(),\n",
    "        df.lat.min(), df.lat.max()))\n",
    "BBox"
   ]
  },
  {
   "cell_type": "code",
   "execution_count": null,
   "metadata": {},
   "outputs": [],
   "source": [
    "ruh_m = plt.imread('map.jpeg')"
   ]
  },
  {
   "cell_type": "code",
   "execution_count": null,
   "metadata": {},
   "outputs": [],
   "source": [
    "fig, ax = plt.subplots()\n",
    "ax.scatter(X.lon, X.lat, c=cluster_membership, s=50, zorder=1, alpha= 0.4, marker='*',cmap='viridis')\n",
    "ax.scatter(pd.Series(cntr[:,0]),pd.Series(cntr[:,1]), c='red', s=200, alpha=0.7)\n",
    "ax.set_title('Plotting Spatial Data of UA troops on Ukraine Map')\n",
    "ax.set_xlim(BBox[0],BBox[1])\n",
    "ax.set_ylim(BBox[2],BBox[3])\n",
    "ax.imshow(ruh_m, zorder=0, extent = BBox, aspect= 'auto')"
   ]
  }
 ],
 "metadata": {
  "kernelspec": {
   "display_name": "troops-clustering",
   "language": "python",
   "name": "python3"
  },
  "language_info": {
   "codemirror_mode": {
    "name": "ipython",
    "version": 3
   },
   "file_extension": ".py",
   "mimetype": "text/x-python",
   "name": "python",
   "nbconvert_exporter": "python",
   "pygments_lexer": "ipython3",
   "version": "3.9.15 (main, Nov 24 2022, 08:28:41) \n[Clang 14.0.6 ]"
  },
  "orig_nbformat": 4,
  "vscode": {
   "interpreter": {
    "hash": "ad34e362687d8a6fe7b339b24e614f59a9ae71451032b797e9c2c5c7cdf8e900"
   }
  }
 },
 "nbformat": 4,
 "nbformat_minor": 2
}
