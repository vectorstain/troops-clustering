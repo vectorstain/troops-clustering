{
 "cells": [
  {
   "cell_type": "code",
   "execution_count": null,
   "metadata": {},
   "outputs": [],
   "source": [
    "import pandas as pd\n",
    "import matplotlib.pyplot as plt\n",
    "\n",
    "df = pd.read_csv(\"data/raw/uk-war.csv\", names=[\"date\",\"time\",\"location\",\"lat\",\"lon\",\"kind\",\"description\",\"link\"])\n",
    "df.dropna(axis=0,how='any',subset=['lat','lon'],inplace=True)\n",
    "# Variable with the Longitude and Latitude\n",
    "X=df.loc[:,['kind','lat','lon']]\n",
    "X = X[X[\"kind\"].str.contains(\"Ua\") == False]\n",
    "X[\"party\"]=0\n",
    "Y=df.loc[:,['kind','lat','lon']]\n",
    "Y = Y[Y[\"kind\"].str.contains(\"Ru\") == False]\n",
    "Y = Y[Y[\"kind\"].str.contains(\"RU\") == False]\n",
    "Y[\"party\"] = 1"
   ]
  },
  {
   "cell_type": "code",
   "execution_count": null,
   "metadata": {},
   "outputs": [],
   "source": [
    "frames = [X, Y]\n",
    "Z = pd.concat(frames)\n",
    "Z\n"
   ]
  },
  {
   "cell_type": "code",
   "execution_count": null,
   "metadata": {},
   "outputs": [],
   "source": [
    "from sklearn.preprocessing import StandardScaler\n",
    "\n",
    "scaler = StandardScaler()\n",
    "# Fit only on X_train\n",
    "scaler.fit(Z[Z.columns[1:3]])\n",
    "\n",
    "# Scale both X_train and X_test\n",
    "Z_scaled = scaler.transform(Z[Z.columns[1:3]])\n",
    "\n",
    "\n",
    "scaled_df = pd.DataFrame(Z_scaled, columns=[\"lat\",\"lon\"])\n",
    "\n",
    "scaled_df\n"
   ]
  },
  {
   "cell_type": "code",
   "execution_count": null,
   "metadata": {},
   "outputs": [],
   "source": [
    "from sklearn.neighbors import KNeighborsRegressor\n",
    "regressor = KNeighborsRegressor(n_neighbors = 3, metric = 'minkowski', p = 2)\n",
    "regressor.fit(scaled_df, Z.party)"
   ]
  },
  {
   "cell_type": "code",
   "execution_count": null,
   "metadata": {},
   "outputs": [],
   "source": [
    "y_pred = regressor.predict(scaled_df)\n",
    "y_pred"
   ]
  },
  {
   "cell_type": "code",
   "execution_count": null,
   "metadata": {},
   "outputs": [],
   "source": [
    "from matplotlib.colors import ListedColormap\n",
    "import numpy as np\n",
    "X_set, y_set = Z_scaled, Z.party\n",
    "X1, X2 = np.meshgrid(np.arange(start = X_set[:, 0].min() - 1, stop = X_set[:, 0].max() + 1, step = 0.01),\n",
    "                     np.arange(start = X_set[:, 1].min() - 1, stop = X_set[:, 1].max() + 1, step = 0.01))\n",
    "plt.contourf(X1, X2, regressor.predict(np.array([X1.ravel(), X2.ravel()]).T).reshape(X1.shape),\n",
    "             alpha = 0.75, cmap = ListedColormap(('red', 'green')))\n",
    "plt.xlim(X1.min(), X1.max())\n",
    "plt.ylim(X2.min(), X2.max())\n",
    "for i, j in enumerate(np.unique(y_set)):\n",
    "    plt.scatter(X_set[y_set == j, 0], X_set[y_set == j, 1],\n",
    "                c = ListedColormap(('red', 'green'))(i), label = j)\n",
    "plt.title('KNN Classification')\n",
    "plt.xlabel('DMV_Test_1')\n",
    "plt.ylabel('DMV_Test_2')\n",
    "plt.legend()\n",
    "plt.show()"
   ]
  },
  {
   "cell_type": "code",
   "execution_count": null,
   "metadata": {},
   "outputs": [],
   "source": [
    "plt.figure(figsize = (15,5))\n",
    "plt.scatter(Z.lon, Z.lat, c=y_pred, marker= 'o', s=100,edgecolors='red')"
   ]
  },
  {
   "cell_type": "code",
   "execution_count": null,
   "metadata": {},
   "outputs": [],
   "source": [
    "Z.lat.min()"
   ]
  },
  {
   "cell_type": "code",
   "execution_count": null,
   "metadata": {},
   "outputs": [],
   "source": [
    "from sklearn.neighbors import NearestNeighbors\n",
    "import numpy as np\n",
    "nbrs = NearestNeighbors(n_neighbors=2, algorithm='ball_tree').fit(X)\n",
    "distances, indices = nbrs.kneighbors(X)\n",
    "indices\n",
    "\n",
    "\n",
    "\n",
    "\n"
   ]
  }
 ],
 "metadata": {
  "kernelspec": {
   "display_name": "troops-clustering",
   "language": "python",
   "name": "python3"
  },
  "language_info": {
   "codemirror_mode": {
    "name": "ipython",
    "version": 3
   },
   "file_extension": ".py",
   "mimetype": "text/x-python",
   "name": "python",
   "nbconvert_exporter": "python",
   "pygments_lexer": "ipython3",
   "version": "3.9.15 (main, Nov 24 2022, 08:28:41) \n[Clang 14.0.6 ]"
  },
  "orig_nbformat": 4,
  "vscode": {
   "interpreter": {
    "hash": "ad34e362687d8a6fe7b339b24e614f59a9ae71451032b797e9c2c5c7cdf8e900"
   }
  }
 },
 "nbformat": 4,
 "nbformat_minor": 2
}
