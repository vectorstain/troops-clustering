{
 "cells": [
  {
   "cell_type": "code",
   "execution_count": 5,
   "metadata": {},
   "outputs": [],
   "source": [
    "import pandas as pd\n",
    "import matplotlib.pyplot as plt\n",
    "\n",
    "df = pd.read_csv(\"data/raw/uk-war.csv\", names=[\"date\",\"time\",\"location\",\"lat\",\"lon\",\"kind\",\"description\",\"link\"])\n",
    "df.dropna(axis=0,how='any',subset=['lat','lon'],inplace=True)\n",
    "# Variable with the Longitude and Latitude\n",
    "X=df.loc[:,['kind','lat','lon']]\n",
    "X = X[X[\"kind\"].str.contains(\"Ua\") == False]\n",
    "X[\"party\"]=0\n",
    "Y=df.loc[:,['kind','lat','lon']]\n",
    "Y = Y[Y[\"kind\"].str.contains(\"Ru\") == False]\n",
    "Y = Y[Y[\"kind\"].str.contains(\"RU\") == False]\n",
    "Y[\"party\"] = 1"
   ]
  },
  {
   "cell_type": "code",
   "execution_count": 6,
   "metadata": {},
   "outputs": [
    {
     "data": {
      "text/html": [
       "<div>\n",
       "<style scoped>\n",
       "    .dataframe tbody tr th:only-of-type {\n",
       "        vertical-align: middle;\n",
       "    }\n",
       "\n",
       "    .dataframe tbody tr th {\n",
       "        vertical-align: top;\n",
       "    }\n",
       "\n",
       "    .dataframe thead th {\n",
       "        text-align: right;\n",
       "    }\n",
       "</style>\n",
       "<table border=\"1\" class=\"dataframe\">\n",
       "  <thead>\n",
       "    <tr style=\"text-align: right;\">\n",
       "      <th></th>\n",
       "      <th>kind</th>\n",
       "      <th>lat</th>\n",
       "      <th>lon</th>\n",
       "      <th>party</th>\n",
       "    </tr>\n",
       "  </thead>\n",
       "  <tbody>\n",
       "    <tr>\n",
       "      <th>1</th>\n",
       "      <td>Ru Position</td>\n",
       "      <td>47.739985</td>\n",
       "      <td>37.242889</td>\n",
       "      <td>0</td>\n",
       "    </tr>\n",
       "    <tr>\n",
       "      <th>2</th>\n",
       "      <td>BARS-4 still in Kherson</td>\n",
       "      <td>46.687000</td>\n",
       "      <td>33.124000</td>\n",
       "      <td>0</td>\n",
       "    </tr>\n",
       "    <tr>\n",
       "      <th>3</th>\n",
       "      <td>Ru Position</td>\n",
       "      <td>48.576680</td>\n",
       "      <td>38.034390</td>\n",
       "      <td>0</td>\n",
       "    </tr>\n",
       "    <tr>\n",
       "      <th>4</th>\n",
       "      <td>Ru Position x 2</td>\n",
       "      <td>47.751306</td>\n",
       "      <td>37.235094</td>\n",
       "      <td>0</td>\n",
       "    </tr>\n",
       "    <tr>\n",
       "      <th>7</th>\n",
       "      <td>Ru Position and presence adjust</td>\n",
       "      <td>48.090561</td>\n",
       "      <td>37.738456</td>\n",
       "      <td>0</td>\n",
       "    </tr>\n",
       "    <tr>\n",
       "      <th>...</th>\n",
       "      <td>...</td>\n",
       "      <td>...</td>\n",
       "      <td>...</td>\n",
       "      <td>...</td>\n",
       "    </tr>\n",
       "    <tr>\n",
       "      <th>144</th>\n",
       "      <td>Ua Position</td>\n",
       "      <td>47.425501</td>\n",
       "      <td>33.602895</td>\n",
       "      <td>1</td>\n",
       "    </tr>\n",
       "    <tr>\n",
       "      <th>150</th>\n",
       "      <td>Ua Position</td>\n",
       "      <td>48.952260</td>\n",
       "      <td>38.199228</td>\n",
       "      <td>1</td>\n",
       "    </tr>\n",
       "    <tr>\n",
       "      <th>153</th>\n",
       "      <td>Ua Position</td>\n",
       "      <td>46.912972</td>\n",
       "      <td>33.447995</td>\n",
       "      <td>1</td>\n",
       "    </tr>\n",
       "    <tr>\n",
       "      <th>157</th>\n",
       "      <td>Ua Position and presence adjust</td>\n",
       "      <td>48.606047</td>\n",
       "      <td>38.018398</td>\n",
       "      <td>1</td>\n",
       "    </tr>\n",
       "    <tr>\n",
       "      <th>161</th>\n",
       "      <td>Ua Position</td>\n",
       "      <td>49.525926</td>\n",
       "      <td>37.956265</td>\n",
       "      <td>1</td>\n",
       "    </tr>\n",
       "  </tbody>\n",
       "</table>\n",
       "<p>164 rows × 4 columns</p>\n",
       "</div>"
      ],
      "text/plain": [
       "                                kind        lat        lon  party\n",
       "1                        Ru Position  47.739985  37.242889      0\n",
       "2            BARS-4 still in Kherson  46.687000  33.124000      0\n",
       "3                        Ru Position  48.576680  38.034390      0\n",
       "4                    Ru Position x 2  47.751306  37.235094      0\n",
       "7    Ru Position and presence adjust  48.090561  37.738456      0\n",
       "..                               ...        ...        ...    ...\n",
       "144                      Ua Position  47.425501  33.602895      1\n",
       "150                      Ua Position  48.952260  38.199228      1\n",
       "153                      Ua Position  46.912972  33.447995      1\n",
       "157  Ua Position and presence adjust  48.606047  38.018398      1\n",
       "161                      Ua Position  49.525926  37.956265      1\n",
       "\n",
       "[164 rows x 4 columns]"
      ]
     },
     "execution_count": 6,
     "metadata": {},
     "output_type": "execute_result"
    }
   ],
   "source": [
    "frames = [X, Y]\n",
    "Z = pd.concat(frames)\n",
    "Z\n"
   ]
  },
  {
   "cell_type": "code",
   "execution_count": 7,
   "metadata": {},
   "outputs": [
    {
     "data": {
      "text/html": [
       "<div>\n",
       "<style scoped>\n",
       "    .dataframe tbody tr th:only-of-type {\n",
       "        vertical-align: middle;\n",
       "    }\n",
       "\n",
       "    .dataframe tbody tr th {\n",
       "        vertical-align: top;\n",
       "    }\n",
       "\n",
       "    .dataframe thead th {\n",
       "        text-align: right;\n",
       "    }\n",
       "</style>\n",
       "<table border=\"1\" class=\"dataframe\">\n",
       "  <thead>\n",
       "    <tr style=\"text-align: right;\">\n",
       "      <th></th>\n",
       "      <th>lat</th>\n",
       "      <th>lon</th>\n",
       "    </tr>\n",
       "  </thead>\n",
       "  <tbody>\n",
       "    <tr>\n",
       "      <th>0</th>\n",
       "      <td>-1.083273</td>\n",
       "      <td>-0.089521</td>\n",
       "    </tr>\n",
       "    <tr>\n",
       "      <th>1</th>\n",
       "      <td>-2.521973</td>\n",
       "      <td>-2.321930</td>\n",
       "    </tr>\n",
       "    <tr>\n",
       "      <th>2</th>\n",
       "      <td>0.059910</td>\n",
       "      <td>0.339467</td>\n",
       "    </tr>\n",
       "    <tr>\n",
       "      <th>3</th>\n",
       "      <td>-1.067805</td>\n",
       "      <td>-0.093745</td>\n",
       "    </tr>\n",
       "    <tr>\n",
       "      <th>4</th>\n",
       "      <td>-0.604278</td>\n",
       "      <td>0.179073</td>\n",
       "    </tr>\n",
       "    <tr>\n",
       "      <th>...</th>\n",
       "      <td>...</td>\n",
       "      <td>...</td>\n",
       "    </tr>\n",
       "    <tr>\n",
       "      <th>159</th>\n",
       "      <td>-1.512954</td>\n",
       "      <td>-2.062372</td>\n",
       "    </tr>\n",
       "    <tr>\n",
       "      <th>160</th>\n",
       "      <td>0.573067</td>\n",
       "      <td>0.428808</td>\n",
       "    </tr>\n",
       "    <tr>\n",
       "      <th>161</th>\n",
       "      <td>-2.213226</td>\n",
       "      <td>-2.146327</td>\n",
       "    </tr>\n",
       "    <tr>\n",
       "      <th>162</th>\n",
       "      <td>0.100034</td>\n",
       "      <td>0.330800</td>\n",
       "    </tr>\n",
       "    <tr>\n",
       "      <th>163</th>\n",
       "      <td>1.356871</td>\n",
       "      <td>0.297124</td>\n",
       "    </tr>\n",
       "  </tbody>\n",
       "</table>\n",
       "<p>164 rows × 2 columns</p>\n",
       "</div>"
      ],
      "text/plain": [
       "          lat       lon\n",
       "0   -1.083273 -0.089521\n",
       "1   -2.521973 -2.321930\n",
       "2    0.059910  0.339467\n",
       "3   -1.067805 -0.093745\n",
       "4   -0.604278  0.179073\n",
       "..        ...       ...\n",
       "159 -1.512954 -2.062372\n",
       "160  0.573067  0.428808\n",
       "161 -2.213226 -2.146327\n",
       "162  0.100034  0.330800\n",
       "163  1.356871  0.297124\n",
       "\n",
       "[164 rows x 2 columns]"
      ]
     },
     "execution_count": 7,
     "metadata": {},
     "output_type": "execute_result"
    }
   ],
   "source": [
    "from sklearn.preprocessing import StandardScaler\n",
    "\n",
    "scaler = StandardScaler()\n",
    "# Fit only on X_train\n",
    "scaler.fit(Z[Z.columns[1:3]])\n",
    "\n",
    "# Scale both X_train and X_test\n",
    "Z_scaled = scaler.transform(Z[Z.columns[1:3]])\n",
    "\n",
    "\n",
    "scaled_df = pd.DataFrame(Z_scaled, columns=[\"lat\",\"lon\"])\n",
    "\n",
    "scaled_df\n"
   ]
  },
  {
   "cell_type": "code",
   "execution_count": 38,
   "metadata": {},
   "outputs": [
    {
     "data": {
      "text/html": [
       "<style>#sk-container-id-7 {color: black;background-color: white;}#sk-container-id-7 pre{padding: 0;}#sk-container-id-7 div.sk-toggleable {background-color: white;}#sk-container-id-7 label.sk-toggleable__label {cursor: pointer;display: block;width: 100%;margin-bottom: 0;padding: 0.3em;box-sizing: border-box;text-align: center;}#sk-container-id-7 label.sk-toggleable__label-arrow:before {content: \"▸\";float: left;margin-right: 0.25em;color: #696969;}#sk-container-id-7 label.sk-toggleable__label-arrow:hover:before {color: black;}#sk-container-id-7 div.sk-estimator:hover label.sk-toggleable__label-arrow:before {color: black;}#sk-container-id-7 div.sk-toggleable__content {max-height: 0;max-width: 0;overflow: hidden;text-align: left;background-color: #f0f8ff;}#sk-container-id-7 div.sk-toggleable__content pre {margin: 0.2em;color: black;border-radius: 0.25em;background-color: #f0f8ff;}#sk-container-id-7 input.sk-toggleable__control:checked~div.sk-toggleable__content {max-height: 200px;max-width: 100%;overflow: auto;}#sk-container-id-7 input.sk-toggleable__control:checked~label.sk-toggleable__label-arrow:before {content: \"▾\";}#sk-container-id-7 div.sk-estimator input.sk-toggleable__control:checked~label.sk-toggleable__label {background-color: #d4ebff;}#sk-container-id-7 div.sk-label input.sk-toggleable__control:checked~label.sk-toggleable__label {background-color: #d4ebff;}#sk-container-id-7 input.sk-hidden--visually {border: 0;clip: rect(1px 1px 1px 1px);clip: rect(1px, 1px, 1px, 1px);height: 1px;margin: -1px;overflow: hidden;padding: 0;position: absolute;width: 1px;}#sk-container-id-7 div.sk-estimator {font-family: monospace;background-color: #f0f8ff;border: 1px dotted black;border-radius: 0.25em;box-sizing: border-box;margin-bottom: 0.5em;}#sk-container-id-7 div.sk-estimator:hover {background-color: #d4ebff;}#sk-container-id-7 div.sk-parallel-item::after {content: \"\";width: 100%;border-bottom: 1px solid gray;flex-grow: 1;}#sk-container-id-7 div.sk-label:hover label.sk-toggleable__label {background-color: #d4ebff;}#sk-container-id-7 div.sk-serial::before {content: \"\";position: absolute;border-left: 1px solid gray;box-sizing: border-box;top: 0;bottom: 0;left: 50%;z-index: 0;}#sk-container-id-7 div.sk-serial {display: flex;flex-direction: column;align-items: center;background-color: white;padding-right: 0.2em;padding-left: 0.2em;position: relative;}#sk-container-id-7 div.sk-item {position: relative;z-index: 1;}#sk-container-id-7 div.sk-parallel {display: flex;align-items: stretch;justify-content: center;background-color: white;position: relative;}#sk-container-id-7 div.sk-item::before, #sk-container-id-7 div.sk-parallel-item::before {content: \"\";position: absolute;border-left: 1px solid gray;box-sizing: border-box;top: 0;bottom: 0;left: 50%;z-index: -1;}#sk-container-id-7 div.sk-parallel-item {display: flex;flex-direction: column;z-index: 1;position: relative;background-color: white;}#sk-container-id-7 div.sk-parallel-item:first-child::after {align-self: flex-end;width: 50%;}#sk-container-id-7 div.sk-parallel-item:last-child::after {align-self: flex-start;width: 50%;}#sk-container-id-7 div.sk-parallel-item:only-child::after {width: 0;}#sk-container-id-7 div.sk-dashed-wrapped {border: 1px dashed gray;margin: 0 0.4em 0.5em 0.4em;box-sizing: border-box;padding-bottom: 0.4em;background-color: white;}#sk-container-id-7 div.sk-label label {font-family: monospace;font-weight: bold;display: inline-block;line-height: 1.2em;}#sk-container-id-7 div.sk-label-container {text-align: center;}#sk-container-id-7 div.sk-container {/* jupyter's `normalize.less` sets `[hidden] { display: none; }` but bootstrap.min.css set `[hidden] { display: none !important; }` so we also need the `!important` here to be able to override the default hidden behavior on the sphinx rendered scikit-learn.org. See: https://github.com/scikit-learn/scikit-learn/issues/21755 */display: inline-block !important;position: relative;}#sk-container-id-7 div.sk-text-repr-fallback {display: none;}</style><div id=\"sk-container-id-7\" class=\"sk-top-container\"><div class=\"sk-text-repr-fallback\"><pre>KNeighborsRegressor(n_neighbors=3)</pre><b>In a Jupyter environment, please rerun this cell to show the HTML representation or trust the notebook. <br />On GitHub, the HTML representation is unable to render, please try loading this page with nbviewer.org.</b></div><div class=\"sk-container\" hidden><div class=\"sk-item\"><div class=\"sk-estimator sk-toggleable\"><input class=\"sk-toggleable__control sk-hidden--visually\" id=\"sk-estimator-id-7\" type=\"checkbox\" checked><label for=\"sk-estimator-id-7\" class=\"sk-toggleable__label sk-toggleable__label-arrow\">KNeighborsRegressor</label><div class=\"sk-toggleable__content\"><pre>KNeighborsRegressor(n_neighbors=3)</pre></div></div></div></div></div>"
      ],
      "text/plain": [
       "KNeighborsRegressor(n_neighbors=3)"
      ]
     },
     "execution_count": 38,
     "metadata": {},
     "output_type": "execute_result"
    }
   ],
   "source": [
    "from sklearn.neighbors import KNeighborsRegressor\n",
    "regressor = KNeighborsRegressor(n_neighbors = 3, metric = 'minkowski', p = 2)\n",
    "regressor.fit(scaled_df, Z.party)"
   ]
  },
  {
   "cell_type": "code",
   "execution_count": 32,
   "metadata": {},
   "outputs": [
    {
     "data": {
      "text/plain": [
       "array([0. , 0.6, 0. , 0. , 0.4, 0. , 0. , 0.2, 0.2, 0. , 0.2, 0.6, 0.6,\n",
       "       0.6, 0.2, 0.2, 0.2, 0.2, 0.2, 0. , 0.4, 0.2, 0.8, 0.2, 0.2, 0.6,\n",
       "       0.2, 0.4, 0. , 0.2, 0. , 0. , 0.2, 0.4, 0.2, 0.4, 0.6, 0.2, 0.2,\n",
       "       0.4, 0.4, 0.4, 0.4, 0.4, 0.4, 0.2, 0.4, 0.2, 0.2, 0.4, 0.4, 0.4,\n",
       "       0.4, 0.2, 0.4, 0.2, 0.6, 0.4, 0. , 0.4, 0.4, 0. , 0.4, 0.2, 0.4,\n",
       "       0.2, 0.4, 0.4, 0.4, 0. , 0.2, 0.4, 0. , 0.2, 0. , 0.8, 0. , 0.2,\n",
       "       0.2, 0.2, 0.2, 0.4, 0.4, 0. , 0. , 0.6, 0. , 0.6, 0. , 0.4, 0.2,\n",
       "       0. , 0.4, 0.4, 0.4, 0.2, 0.2, 0.4, 0.4, 0.4, 0.8, 0. , 0.4, 0.6,\n",
       "       0.2, 0.4, 0.4, 0.6, 0.6, 0.6, 0.8, 0.2, 0.4, 0.4, 0.6, 0.4, 0.6,\n",
       "       0.4, 0.6, 0.2, 0.2, 0.6, 0.4, 0.6, 0.6, 0.6, 0.6, 0.6, 0.2, 0.4,\n",
       "       0.6, 0.2, 0.6, 0.4, 0.6, 0.4, 0.2, 0.6, 0.4, 0.2, 0.8, 0.6, 0.6,\n",
       "       0.4, 0.8, 0.6, 0.4, 0.4, 0.4, 0.4, 0.2, 0.2, 0.4, 0.6, 0.4, 0.8,\n",
       "       0.8, 0.6, 0.8, 0.8, 0.8, 0.8, 0.4, 0.4])"
      ]
     },
     "execution_count": 32,
     "metadata": {},
     "output_type": "execute_result"
    }
   ],
   "source": [
    "y_pred = regressor.predict(scaled_df)\n",
    "y_pred"
   ]
  },
  {
   "cell_type": "code",
   "execution_count": 39,
   "metadata": {},
   "outputs": [
    {
     "name": "stderr",
     "output_type": "stream",
     "text": [
      "/Users/vincenzomariacalandra/miniconda3/envs/troops-clustering/lib/python3.9/site-packages/sklearn/base.py:409: UserWarning: X does not have valid feature names, but KNeighborsRegressor was fitted with feature names\n",
      "  warnings.warn(\n",
      "*c* argument looks like a single numeric RGB or RGBA sequence, which should be avoided as value-mapping will have precedence in case its length matches with *x* & *y*.  Please use the *color* keyword-argument or provide a 2D array with a single row if you intend to specify the same RGB or RGBA value for all points.\n",
      "*c* argument looks like a single numeric RGB or RGBA sequence, which should be avoided as value-mapping will have precedence in case its length matches with *x* & *y*.  Please use the *color* keyword-argument or provide a 2D array with a single row if you intend to specify the same RGB or RGBA value for all points.\n"
     ]
    },
    {
     "data": {
      "image/png": "[encoded data removed]",
      "text/plain": [
       "<Figure size 640x480 with 1 Axes>"
      ]
     },
     "metadata": {},
     "output_type": "display_data"
    }
   ],
   "source": [
    "from matplotlib.colors import ListedColormap\n",
    "import numpy as np\n",
    "X_set, y_set = Z_scaled, Z.party\n",
    "X1, X2 = np.meshgrid(np.arange(start = X_set[:, 0].min() - 1, stop = X_set[:, 0].max() + 1, step = 0.01),\n",
    "                     np.arange(start = X_set[:, 1].min() - 1, stop = X_set[:, 1].max() + 1, step = 0.01))\n",
    "plt.contourf(X1, X2, regressor.predict(np.array([X1.ravel(), X2.ravel()]).T).reshape(X1.shape),\n",
    "             alpha = 0.75, cmap = ListedColormap(('red', 'green')))\n",
    "plt.xlim(X1.min(), X1.max())\n",
    "plt.ylim(X2.min(), X2.max())\n",
    "for i, j in enumerate(np.unique(y_set)):\n",
    "    plt.scatter(X_set[y_set == j, 0], X_set[y_set == j, 1],\n",
    "                c = ListedColormap(('red', 'green'))(i), label = j)\n",
    "plt.title('KNN Classification')\n",
    "plt.xlabel('DMV_Test_1')\n",
    "plt.ylabel('DMV_Test_2')\n",
    "plt.legend()\n",
    "plt.show()"
   ]
  },
  {
   "cell_type": "code",
   "execution_count": 10,
   "metadata": {},
   "outputs": [
    {
     "data": {
      "text/plain": [
       "<matplotlib.collections.PathCollection at 0x16a7d2c10>"
      ]
     },
     "execution_count": 10,
     "metadata": {},
     "output_type": "execute_result"
    },
    {
     "data": {
      "image/png": "[encoded data removed]",
      "text/plain": [
       "<Figure size 1500x500 with 1 Axes>"
      ]
     },
     "metadata": {},
     "output_type": "display_data"
    }
   ],
   "source": [
    "plt.figure(figsize = (15,5))\n",
    "plt.scatter(Z.lon, Z.lat, c=y_pred, marker= 'o', s=100,edgecolors='red')"
   ]
  },
  {
   "cell_type": "code",
   "execution_count": 15,
   "metadata": {},
   "outputs": [
    {
     "data": {
      "text/plain": [
       "46.565222"
      ]
     },
     "execution_count": 15,
     "metadata": {},
     "output_type": "execute_result"
    }
   ],
   "source": [
    "Z.lat.min()"
   ]
  },
  {
   "cell_type": "code",
   "execution_count": 4,
   "metadata": {},
   "outputs": [
    {
     "data": {
      "text/plain": [
       "array([[  0,  76],\n",
       "       [  1,  93],\n",
       "       [  2,  63],\n",
       "       [  3,  76],\n",
       "       [  4,  57],\n",
       "       [  5,  88],\n",
       "       [  6,  84],\n",
       "       [  7,  34],\n",
       "       [  8,  16],\n",
       "       [  9,  88],\n",
       "       [ 10,  15],\n",
       "       [ 11,  33],\n",
       "       [ 12,  36],\n",
       "       [ 13,  20],\n",
       "       [ 14,  38],\n",
       "       [ 15,  10],\n",
       "       [ 16,   8],\n",
       "       [ 17,   2],\n",
       "       [ 18,  65],\n",
       "       [ 19,  31],\n",
       "       [ 20,  93],\n",
       "       [ 21,  24],\n",
       "       [ 22,   1],\n",
       "       [ 23,  65],\n",
       "       [ 24,  29],\n",
       "       [ 25,  40],\n",
       "       [ 26,  80],\n",
       "       [ 27,  81],\n",
       "       [ 30,  28],\n",
       "       [ 29,  24],\n",
       "       [ 30,  28],\n",
       "       [ 31,  19],\n",
       "       [ 32, 101],\n",
       "       [ 33,  99],\n",
       "       [ 34,   7],\n",
       "       [ 35,  44],\n",
       "       [ 36,  62],\n",
       "       [ 37,  53],\n",
       "       [ 38,  14],\n",
       "       [ 39,  68],\n",
       "       [ 40,  82],\n",
       "       [ 41,  98],\n",
       "       [ 42,  50],\n",
       "       [ 43,  85],\n",
       "       [ 44,  40],\n",
       "       [ 45,  68],\n",
       "       [ 46,  52],\n",
       "       [ 47,  70],\n",
       "       [ 48,  53],\n",
       "       [ 49,  85],\n",
       "       [ 50,  42],\n",
       "       [ 51,  89],\n",
       "       [ 52,  92],\n",
       "       [ 53,  48],\n",
       "       [ 54, 100],\n",
       "       [ 55,  96],\n",
       "       [ 56,  87],\n",
       "       [ 57,   4],\n",
       "       [ 58,  55],\n",
       "       [ 59,  60],\n",
       "       [ 60,  59],\n",
       "       [ 61,  74],\n",
       "       [ 62,  71],\n",
       "       [ 63,  78],\n",
       "       [ 64,  50],\n",
       "       [ 65,  18],\n",
       "       [ 66,  23],\n",
       "       [ 67,  81],\n",
       "       [ 68,  45],\n",
       "       [ 69,  72],\n",
       "       [ 70,  47],\n",
       "       [ 71,  26],\n",
       "       [ 72,  69],\n",
       "       [ 73,  77],\n",
       "       [ 74,  61],\n",
       "       [ 75,  92],\n",
       "       [ 76,   3],\n",
       "       [ 77,  73],\n",
       "       [ 78,  63],\n",
       "       [ 79,  73],\n",
       "       [ 80,  26],\n",
       "       [ 81,  67],\n",
       "       [ 82,  40],\n",
       "       [ 83,   9],\n",
       "       [ 84,   6],\n",
       "       [ 85,  49],\n",
       "       [ 86,  38],\n",
       "       [ 87,  56],\n",
       "       [ 88,   5],\n",
       "       [ 89,  51],\n",
       "       [ 90,  24],\n",
       "       [ 91,  76],\n",
       "       [ 92,  52],\n",
       "       [ 93,  20],\n",
       "       [ 94,  52],\n",
       "       [ 95,   8],\n",
       "       [ 96,  55],\n",
       "       [ 97,  32],\n",
       "       [ 98,  57],\n",
       "       [ 99,  33],\n",
       "       [100,  97],\n",
       "       [101,  59]])"
      ]
     },
     "execution_count": 4,
     "metadata": {},
     "output_type": "execute_result"
    }
   ],
   "source": [
    "from sklearn.neighbors import NearestNeighbors\n",
    "import numpy as np\n",
    "nbrs = NearestNeighbors(n_neighbors=2, algorithm='ball_tree').fit(X)\n",
    "distances, indices = nbrs.kneighbors(X)\n",
    "indices\n",
    "\n",
    "\n",
    "\n",
    "\n"
   ]
  }
 ],
 "metadata": {
  "kernelspec": {
   "display_name": "troops-clustering",
   "language": "python",
   "name": "python3"
  },
  "language_info": {
   "codemirror_mode": {
    "name": "ipython",
    "version": 3
   },
   "file_extension": ".py",
   "mimetype": "text/x-python",
   "name": "python",
   "nbconvert_exporter": "python",
   "pygments_lexer": "ipython3",
   "version": "3.9.15"
  },
  "orig_nbformat": 4,
  "vscode": {
   "interpreter": {
    "hash": "ad34e362687d8a6fe7b339b24e614f59a9ae71451032b797e9c2c5c7cdf8e900"
   }
  }
 },
 "nbformat": 4,
 "nbformat_minor": 2
}
